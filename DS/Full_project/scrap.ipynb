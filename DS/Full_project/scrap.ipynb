{
 "cells": [
  {
   "cell_type": "code",
   "execution_count": 1,
   "metadata": {},
   "outputs": [],
   "source": [
    "import pandas as pd\n",
    "import numpy as np\n",
    "import requests\n",
    "from selenium import webdriver\n",
    "from selenium.webdriver.chrome.service import Service\n",
    "from webdriver_manager.chrome import ChromeDriverManager\n",
    "from time import sleep\n",
    "from bs4 import BeautifulSoup\n",
    "import re\n",
    "import warnings\n",
    "warnings.filterwarnings('ignore')\n",
    "import pprint"
   ]
  },
  {
   "cell_type": "code",
   "execution_count": 6,
   "metadata": {},
   "outputs": [],
   "source": [
    "final = pd.DataFrame()\n",
    "\n",
    "\n",
    "    \n",
    "\n",
    "for j in range (1,333):\n",
    "    url = 'https://www.ambitionbox.com/list-of-companies?page={}'.format(j)\n",
    "    my_header = {\"User-Agent\":\"Mozilla/5.0 (X11; Ubuntu; Linux x86_64; rv:97.0) Gecko/20100101 Firefox/97.0\", \"Accept\":\"text/html,application/xhtml+xml,application/xml;q=0.9,image/avif,image/webp,*/*;q=0.8\"}\n",
    "    r = requests.get(url, headers= my_header).text\n",
    "\n",
    "    soup = BeautifulSoup(r, 'html.parser')\n",
    "    company = soup.find_all('div', class_ = 'company-content-wrapper')\n",
    "\n",
    "    name =[]\n",
    "    rating = []\n",
    "    review = []\n",
    "    ctype = []\n",
    "    hq = []\n",
    "    old = []\n",
    "    employees = []\n",
    "\n",
    "    for i in company:\n",
    "\n",
    "        try:\n",
    "            name.append(i.find('h2').text.strip())\n",
    "        except:\n",
    "            name.append(np.nan)\n",
    "\n",
    "        try:\n",
    "            rating.append(i.find_all('p', class_ = 'rating').text.strip())\n",
    "        except:\n",
    "            rating.append(np.nan)\n",
    "\n",
    "        try:\n",
    "            review.append(i.find('a', class_ = 'review-count').text.strip())\n",
    "        except:\n",
    "            review.append(np.nan)\n",
    "\n",
    "        try:\n",
    "            ctype.append(i.find_all('p', class_ = 'infoEntity')[0].text.strip())\n",
    "        except:\n",
    "            ctype.append(np.nan)\n",
    "        \n",
    "        try:\n",
    "            hq.append(i.find_all('p', class_ = 'infoEntity')[1].text.strip())\n",
    "        except:\n",
    "            hq.append(np.nan)\n",
    "\n",
    "        try:\n",
    "            old.append(i.find_all('p', class_ = 'infoEntity')[2].text.strip())\n",
    "        except:\n",
    "            old.append(np.nan)\n",
    "\n",
    "        try:\n",
    "            employees.append(i.find_all('p', class_ = 'infoEntity')[3].text.strip())\n",
    "        except:\n",
    "            employees.append(np.nan)\n",
    "\n",
    "    \n",
    "    d = {\"Name\": name, \"Rating\":rating, \"Review\": review, \"C-Type\": ctype, \"HQ\": hq, \"Old\":old, \"Employees\":employees}\n",
    "\n",
    "    df = pd.DataFrame(d)\n",
    "    final=final.append(df)"
   ]
  },
  {
   "cell_type": "code",
   "execution_count": 16,
   "metadata": {},
   "outputs": [
    {
     "data": {
      "text/plain": [
       "'unistar.co.in'"
      ]
     },
     "execution_count": 16,
     "metadata": {},
     "output_type": "execute_result"
    }
   ],
   "source": [
    "final"
   ]
  },
  {
   "cell_type": "code",
   "execution_count": 13,
   "metadata": {},
   "outputs": [
    {
     "ename": "AttributeError",
     "evalue": "'str' object has no attribute 'Name'",
     "output_type": "error",
     "traceback": [
      "\u001b[0;31m---------------------------------------------------------------------------\u001b[0m",
      "\u001b[0;31mAttributeError\u001b[0m                            Traceback (most recent call last)",
      "Cell \u001b[0;32mIn [13], line 11\u001b[0m\n\u001b[1;32m      5\u001b[0m site \u001b[38;5;241m=\u001b[39m []\n\u001b[1;32m      6\u001b[0m stock \u001b[38;5;241m=\u001b[39m []\n\u001b[0;32m---> 11\u001b[0m \u001b[38;5;28;01mfor\u001b[39;00m j \u001b[38;5;129;01min\u001b[39;00m \u001b[43mfinal\u001b[49m\u001b[38;5;241;43m.\u001b[39;49m\u001b[43mName\u001b[49m:\n\u001b[1;32m     12\u001b[0m     url\u001b[38;5;241m=\u001b[39m\u001b[38;5;124mf\u001b[39m\u001b[38;5;124m'\u001b[39m\u001b[38;5;124mhttps://www.google.com/search?channel=fs&client=ubuntu&q=\u001b[39m\u001b[38;5;132;01m{\u001b[39;00mj\u001b[38;5;132;01m}\u001b[39;00m\u001b[38;5;124m'\u001b[39m\n\u001b[1;32m     13\u001b[0m     driver\u001b[38;5;241m.\u001b[39mget(url)\n",
      "\u001b[0;31mAttributeError\u001b[0m: 'str' object has no attribute 'Name'"
     ]
    }
   ],
   "source": [
    "s=Service(ChromeDriverManager().install())\n",
    "driver = webdriver.Chrome(service=s)\n",
    "\n",
    "sector = []\n",
    "site = []\n",
    "stock = []\n",
    "\n",
    "pages=1\n",
    "print(f\"Scraped Page No-\",end=' ')\n",
    "data={}\n",
    "\n",
    "for j in final.Name:\n",
    "    url=f'https://www.google.com/search?channel=fs&client=ubuntu&q={j}'\n",
    "    driver.get(url)\n",
    "    sleep(2)\n",
    "    page_source=driver.page_source\n",
    "    clean=BeautifulSoup(page_source,'html.parser')\n",
    "    \n",
    "\n",
    "    # For sector\n",
    "    try:\n",
    "        parent1=clean.find_all('div',{'class':'TQc1id hSOk2e rhstc4'})\n",
    "        parent2=parent1[0].find_all('div',{'class':'wwUB2c PZPZlf'})\n",
    "        final=parent2[0].find_all('span')\n",
    "        final=final[0].text\n",
    "        sector.append(final)\n",
    "    except:\n",
    "        sector.append(np.nan)\n",
    "        \n",
    "    # For site\n",
    "    try:\n",
    "        parent2=parent1[0].find_all('a',{'class':'B1uW2d ellip PZPZlf'})\n",
    "        final=parent2[0].find_all('span',{'class':'ellip'})\n",
    "        final=final[0].text\n",
    "        site.append(final)\n",
    "    except:\n",
    "        site.append(np.nan)\n",
    "\n",
    "    # For stock\n",
    "    try:\n",
    "        stock_price = clean.select_one('div:has(> span:-soup-contains(\"Stock price\"))')\n",
    "        final_stock = stock_price.get_text(strip=True, separator=\" \")\n",
    "        final_stock2 = final_stock.replace(\",\",\"\")\n",
    "        temp = re.findall(r'\\d+', final_stock2)\n",
    "        res = list(map(int, temp))\n",
    "        \n",
    "        yo = [str(x) for x in res]\n",
    "        frst = yo[0:2]\n",
    "        def listToString(s): \n",
    "            \n",
    "            # initialize an empty string\n",
    "            str1 = \".\" \n",
    "            \n",
    "            # return string  \n",
    "            return (str1.join(s))\n",
    "        stck = listToString(frst)\n",
    "        stock.append(stck)\n",
    "    except:\n",
    "        stock.append(np.nan)\n",
    "\n",
    "    # CEO\n",
    "    # try:\n",
    "    #     ceo.append((clean.find('span', class_ = \"LrzXr kno-fv wHYlTd z8gr9e\")).text.strip())\n",
    "    # except:\n",
    "    #     ceo.append(np.nan)\n",
    "\n",
    "    # Revenue\n",
    "    # try:\n",
    "        \n",
    "\n",
    "\n",
    "\n",
    "driver.quit()\n"
   ]
  },
  {
   "cell_type": "code",
   "execution_count": 12,
   "metadata": {},
   "outputs": [
    {
     "data": {
      "text/plain": [
       "[nan,\n",
       " nan,\n",
       " nan,\n",
       " nan,\n",
       " nan,\n",
       " nan,\n",
       " 'Company',\n",
       " nan,\n",
       " nan,\n",
       " nan,\n",
       " nan,\n",
       " 'Telecommunications company',\n",
       " 'Indian actor',\n",
       " nan,\n",
       " nan,\n",
       " nan,\n",
       " 'Chemicals company',\n",
       " nan,\n",
       " nan,\n",
       " nan,\n",
       " 'Company',\n",
       " nan,\n",
       " nan,\n",
       " nan,\n",
       " 'Company',\n",
       " nan,\n",
       " nan,\n",
       " nan,\n",
       " nan,\n",
       " 'Company']"
      ]
     },
     "execution_count": 12,
     "metadata": {},
     "output_type": "execute_result"
    }
   ],
   "source": [
    "sector"
   ]
  },
  {
   "cell_type": "markdown",
   "metadata": {},
   "source": [
    "### Getting the revenue feature"
   ]
  },
  {
   "cell_type": "code",
   "execution_count": null,
   "metadata": {},
   "outputs": [
    {
     "name": "stdout",
     "output_type": "stream",
     "text": [
      "\n"
     ]
    },
    {
     "name": "stderr",
     "output_type": "stream",
     "text": [
      "[WDM] - ====== WebDriver manager ======\n",
      "[WDM] - Current google-chrome version is 103.0.5060\n",
      "[WDM] - Get LATEST chromedriver version for 103.0.5060 google-chrome\n",
      "[WDM] - Driver [/home/abhishek/.wdm/drivers/chromedriver/linux64/103.0.5060.53/chromedriver] found in cache\n"
     ]
    }
   ],
   "source": [
    "##### for get the revenue feature \n",
    "\n",
    "from selenium import webdriver\n",
    "from selenium.webdriver.chrome.service import Service\n",
    "from webdriver_manager.chrome import ChromeDriverManager\n",
    "from time import sleep\n",
    "from bs4 import BeautifulSoup\n",
    "\n",
    "\n",
    "s=Service(ChromeDriverManager().install())\n",
    "driver = webdriver.Chrome(service=s)\n",
    "\n",
    "revenue = []\n",
    "\n",
    "for j in df.Name:\n",
    "        \n",
    "    url=f'https://www.google.com/search?channel=fs&client=ubuntu&q={j + \" revenue\"}'\n",
    "    driver.get(url)\n",
    "    sleep(2)\n",
    "    page_source=driver.page_source\n",
    "        \n",
    "    clean=BeautifulSoup(page_source,'html.parser')\n",
    "   \n",
    "       \n",
    "    # By name only\n",
    "    try:\n",
    "        parent1=clean.find_all('div',{'id':'rcnt'},{'class':'Z0LcW vMhfn'})\n",
    "        parent2 = parent1[0].find('div', {'class':'Z0LcW'})\n",
    "        parent3 = parent2.get_text(strip=True, separator=\" \")\n",
    "        \n",
    "        revenue.append(parent3)\n",
    "           \n",
    "    except:\n",
    "        revenue.append(np.nan)                \n",
    " \n",
    "driver.quit()    \n",
    "         \n",
    "  \n",
    "\n",
    "        \n",
    "        \n",
    "        "
   ]
  },
  {
   "cell_type": "code",
   "execution_count": null,
   "metadata": {},
   "outputs": [
    {
     "data": {
      "text/plain": [
       "['PD Mundra Anjan Malik', '75,000 crores INR', nan, '7,038 crores INR', '150 crores USD', '4,157 crores INR', nan, '4,069.4 crores INR', '12,800 crores USD', '5,078 crores INR', '1,940 crores USD', '31,517 crores INR', '$42.44B', '1.48 lakh crores INR', nan, '2.45 lakh crores INR', '117.61 lakh crores KRW', nan, '1,092.81 crores INR', '88.1 crores USD', nan, nan, nan, '10,160 crores USD', '1,194.6 crores USD', nan, nan, nan, 'Gopi Natarajan', nan]"
      ]
     },
     "execution_count": 46,
     "metadata": {},
     "output_type": "execute_result"
    }
   ],
   "source": [
    "revenue"
   ]
  },
  {
   "cell_type": "code",
   "execution_count": null,
   "metadata": {},
   "outputs": [
    {
     "name": "stdout",
     "output_type": "stream",
     "text": [
      "\n"
     ]
    },
    {
     "name": "stderr",
     "output_type": "stream",
     "text": [
      "[WDM] - ====== WebDriver manager ======\n",
      "[WDM] - Current google-chrome version is 103.0.5060\n",
      "[WDM] - Get LATEST chromedriver version for 103.0.5060 google-chrome\n",
      "[WDM] - Driver [/home/abhishek/.wdm/drivers/chromedriver/linux64/103.0.5060.53/chromedriver] found in cache\n"
     ]
    },
    {
     "name": "stdout",
     "output_type": "stream",
     "text": [
      "Scraped Page No- "
     ]
    },
    {
     "ename": "IndexError",
     "evalue": "pop from empty list",
     "output_type": "error",
     "traceback": [
      "\u001b[0;31m---------------------------------------------------------------------------\u001b[0m",
      "\u001b[0;31mIndexError\u001b[0m                                Traceback (most recent call last)",
      "\u001b[1;32m/home/abhishek/Documents/Full_project/scrap.ipynb Cell 6'\u001b[0m in \u001b[0;36m<cell line: 15>\u001b[0;34m()\u001b[0m\n\u001b[1;32m     <a href='vscode-notebook-cell:/home/abhishek/Documents/Full_project/scrap.ipynb#ch0000005?line=26'>27</a>\u001b[0m res \u001b[39m=\u001b[39m \u001b[39mlist\u001b[39m(\u001b[39mmap\u001b[39m(\u001b[39mint\u001b[39m, temp))\n\u001b[1;32m     <a href='vscode-notebook-cell:/home/abhishek/Documents/Full_project/scrap.ipynb#ch0000005?line=28'>29</a>\u001b[0m yo \u001b[39m=\u001b[39m [\u001b[39mstr\u001b[39m(x) \u001b[39mfor\u001b[39;00m x \u001b[39min\u001b[39;00m res]\n\u001b[0;32m---> <a href='vscode-notebook-cell:/home/abhishek/Documents/Full_project/scrap.ipynb#ch0000005?line=29'>30</a>\u001b[0m yo\u001b[39m.\u001b[39;49mpop(\u001b[39m-\u001b[39;49m\u001b[39m1\u001b[39;49m)\n\u001b[1;32m     <a href='vscode-notebook-cell:/home/abhishek/Documents/Full_project/scrap.ipynb#ch0000005?line=30'>31</a>\u001b[0m frst \u001b[39m=\u001b[39m yo[\u001b[39m2\u001b[39m:\u001b[39m4\u001b[39m]\n\u001b[1;32m     <a href='vscode-notebook-cell:/home/abhishek/Documents/Full_project/scrap.ipynb#ch0000005?line=31'>32</a>\u001b[0m \u001b[39mdef\u001b[39;00m \u001b[39mlistToString\u001b[39m(s): \n",
      "\u001b[0;31mIndexError\u001b[0m: pop from empty list"
     ]
    }
   ],
   "source": [
    "from selenium import webdriver\n",
    "from selenium.webdriver.chrome.service import Service\n",
    "from webdriver_manager.chrome import ChromeDriverManager\n",
    "from time import sleep\n",
    "from bs4 import BeautifulSoup\n",
    "\n",
    "\n",
    "s=Service(ChromeDriverManager().install())\n",
    "driver = webdriver.Chrome(service=s)\n",
    "\n",
    "revenue = []\n",
    "pages=1\n",
    "print(f\"Scraped Page No-\",end=' ')\n",
    "data={}\n",
    "for i in df.Name:\n",
    "  \n",
    "  url=f'https://www.google.com/search?channel=fs&client=ubuntu&q={i + \" revenue\"}'\n",
    "  driver.get(url)\n",
    "  sleep(2)\n",
    "  page_source=driver.page_source\n",
    "  \n",
    "  clean=BeautifulSoup(page_source,'html.parser')\n",
    "  \n",
    "  parent1=clean.select_one('div:has(> span:-soup-contains(\"Revenue\"))')\n",
    "  parent2 = parent1.get_text(strip=True, separator=\" \")\n",
    "  temp = re.findall(r'\\d+', parent2)\n",
    "  res = list(map(int, temp))\n",
    "  \n",
    "  yo = [str(x) for x in res]\n",
    "  yo.pop(-1)\n",
    "  frst = yo[2:4]\n",
    "  def listToString(s): \n",
    "            \n",
    "      str1 = \".\" \n",
    "      return (str1.join(s))\n",
    "  rev = listToString(frst)\n",
    "  revenue.append(rev)\n",
    "  \n",
    "  # parent2 = parent1.find_all('div', class_ = \"Z1hOCe\")\n",
    "  # parent3 = parent2.find_all\n",
    "  \n",
    "  # print(parent1[2].text)\n",
    "  \n",
    "  break\n",
    "\n",
    "\n",
    "driver.quit()\n"
   ]
  },
  {
   "cell_type": "code",
   "execution_count": null,
   "metadata": {},
   "outputs": [
    {
     "name": "stdout",
     "output_type": "stream",
     "text": [
      "Revenue : 75,000 crores INR (US$9.8 billion, 2021)\n"
     ]
    }
   ],
   "source": [
    "print(parent2)"
   ]
  },
  {
   "cell_type": "code",
   "execution_count": null,
   "metadata": {},
   "outputs": [
    {
     "data": {
      "text/plain": [
       "'billion,'"
      ]
     },
     "execution_count": 92,
     "metadata": {},
     "output_type": "execute_result"
    }
   ],
   "source": [
    "#### To convert the string into list \n",
    "\n",
    "# def Convert(string):\n",
    "    # li = list(string.split(\" \"))\n",
    "    # return li\n",
    "\n",
    "# print(Convert(parent2))\n",
    "\n",
    "li = list(parent2.split(\" \"))\n",
    "li[-2]"
   ]
  },
  {
   "cell_type": "code",
   "execution_count": null,
   "metadata": {},
   "outputs": [
    {
     "name": "stdout",
     "output_type": "stream",
     "text": [
      "\n"
     ]
    },
    {
     "name": "stderr",
     "output_type": "stream",
     "text": [
      "[WDM] - ====== WebDriver manager ======\n",
      "[WDM] - Current google-chrome version is 103.0.5060\n",
      "[WDM] - Get LATEST chromedriver version for 103.0.5060 google-chrome\n",
      "[WDM] - Driver [/home/abhishek/.wdm/drivers/chromedriver/linux64/103.0.5060.53/chromedriver] found in cache\n"
     ]
    },
    {
     "name": "stdout",
     "output_type": "stream",
     "text": [
      "Scraped Page No- "
     ]
    }
   ],
   "source": [
    "s=Service(ChromeDriverManager().install())\n",
    "driver = webdriver.Chrome(service=s)\n",
    "\n",
    "revenue = []\n",
    "pages=1\n",
    "print(f\"Scraped Page No-\",end=' ')\n",
    "data={}\n",
    "while True:\n",
    "  url=f'https://www.google.com/search?channel=fs&client=ubuntu&q={\"tata revenue\"}'\n",
    "  driver.get(url)\n",
    "  sleep(2)\n",
    "  page_source=driver.page_source\n",
    "                \n",
    "  clean=BeautifulSoup(page_source,'html.parser')\n",
    "                \n",
    "  parent1=clean.find_all('div',{'id':'rcnt'},{'class':'Z0LcW vMhfn'})\n",
    "  parent2 = parent1[0].find('div', {'class':'Z0LcW'})\n",
    "  \n",
    "  parent3 = parent2.get_text(strip=True, separator=\" \")\n",
    "  \n",
    "  # print(parent1[2].text)\n",
    "  \n",
    "  break\n",
    "\n",
    "\n",
    "driver.quit()"
   ]
  },
  {
   "cell_type": "code",
   "execution_count": null,
   "metadata": {},
   "outputs": [
    {
     "name": "stdout",
     "output_type": "stream",
     "text": [
      "12,800 crores USD\n"
     ]
    }
   ],
   "source": [
    "print(parent3)\n"
   ]
  },
  {
   "cell_type": "code",
   "execution_count": null,
   "metadata": {},
   "outputs": [],
   "source": []
  },
  {
   "cell_type": "code",
   "execution_count": null,
   "metadata": {},
   "outputs": [],
   "source": []
  },
  {
   "cell_type": "code",
   "execution_count": null,
   "metadata": {},
   "outputs": [],
   "source": []
  },
  {
   "cell_type": "code",
   "execution_count": null,
   "metadata": {},
   "outputs": [],
   "source": []
  },
  {
   "cell_type": "code",
   "execution_count": null,
   "metadata": {},
   "outputs": [],
   "source": []
  },
  {
   "cell_type": "code",
   "execution_count": null,
   "metadata": {},
   "outputs": [],
   "source": []
  },
  {
   "cell_type": "code",
   "execution_count": null,
   "metadata": {},
   "outputs": [],
   "source": []
  },
  {
   "cell_type": "code",
   "execution_count": null,
   "metadata": {},
   "outputs": [],
   "source": []
  },
  {
   "cell_type": "code",
   "execution_count": null,
   "metadata": {},
   "outputs": [],
   "source": []
  },
  {
   "cell_type": "code",
   "execution_count": null,
   "metadata": {},
   "outputs": [],
   "source": []
  },
  {
   "cell_type": "code",
   "execution_count": null,
   "metadata": {},
   "outputs": [],
   "source": []
  },
  {
   "cell_type": "code",
   "execution_count": null,
   "metadata": {},
   "outputs": [],
   "source": []
  },
  {
   "cell_type": "code",
   "execution_count": null,
   "metadata": {},
   "outputs": [],
   "source": []
  },
  {
   "cell_type": "code",
   "execution_count": null,
   "metadata": {},
   "outputs": [],
   "source": []
  },
  {
   "cell_type": "code",
   "execution_count": null,
   "metadata": {},
   "outputs": [],
   "source": []
  },
  {
   "cell_type": "code",
   "execution_count": null,
   "metadata": {},
   "outputs": [],
   "source": []
  },
  {
   "cell_type": "code",
   "execution_count": null,
   "metadata": {},
   "outputs": [],
   "source": []
  },
  {
   "cell_type": "code",
   "execution_count": null,
   "metadata": {},
   "outputs": [],
   "source": []
  },
  {
   "cell_type": "code",
   "execution_count": null,
   "metadata": {},
   "outputs": [],
   "source": []
  },
  {
   "cell_type": "code",
   "execution_count": null,
   "metadata": {},
   "outputs": [],
   "source": []
  },
  {
   "cell_type": "code",
   "execution_count": null,
   "metadata": {},
   "outputs": [],
   "source": []
  }
 ],
 "metadata": {
  "kernelspec": {
   "display_name": "Python 3.10.7 64-bit",
   "language": "python",
   "name": "python3"
  },
  "language_info": {
   "codemirror_mode": {
    "name": "ipython",
    "version": 3
   },
   "file_extension": ".py",
   "mimetype": "text/x-python",
   "name": "python",
   "nbconvert_exporter": "python",
   "pygments_lexer": "ipython3",
   "version": "3.10.7"
  },
  "vscode": {
   "interpreter": {
    "hash": "e7370f93d1d0cde622a1f8e1c04877d8463912d04d973331ad4851f04de6915a"
   }
  }
 },
 "nbformat": 4,
 "nbformat_minor": 2
}
