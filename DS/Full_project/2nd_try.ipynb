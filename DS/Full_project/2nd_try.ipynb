{
 "cells": [
  {
   "cell_type": "code",
   "execution_count": 1,
   "metadata": {},
   "outputs": [],
   "source": [
    "import pandas as pd\n",
    "import numpy as np\n",
    "\n",
    "# These were the tools that i used to scrap dataset\n",
    "# import requests\n",
    "# from selenium import webdriver\n",
    "# from selenium.webdriver.chrome.service import Service\n",
    "# from webdriver_manager.chrome import ChromeDriverManager\n",
    "# from time import sleep\n",
    "# from bs4 import BeautifulSoup\n",
    "# import re\n",
    "\n",
    "import warnings\n",
    "warnings.filterwarnings('ignore')\n",
    "# import pprint"
   ]
  },
  {
   "cell_type": "markdown",
   "metadata": {},
   "source": [
    "# Framing the dataset ↵"
   ]
  },
  {
   "cell_type": "code",
   "execution_count": 2,
   "metadata": {},
   "outputs": [],
   "source": [
    "earnings = pd.read_csv(\"/home/abhishek/Documents/DataSets/Indian companies by earnings.csv\")\n",
    "market_cap = pd.read_csv(\"/home/abhishek/Documents/DataSets/Indian companies by market capitalization.csv\")\n",
    "employees = pd.read_csv(\"/home/abhishek/Documents/DataSets/Indian companies by number of employees.csv\")\n",
    "margin = pd.read_csv(\"/home/abhishek/Documents/DataSets/Indian companies by operating margin.csv\")\n",
    "p_e_ratio = pd.read_csv(\"/home/abhishek/Documents/DataSets/Indian companies by P_E ratio.csv\")\n",
    "revenue = pd.read_csv(\"/home/abhishek/Documents/DataSets/Indian companies by revenue.csv\")"
   ]
  },
  {
   "cell_type": "markdown",
   "metadata": {},
   "source": [
    "#### we need do sort our data because we have 6 different dataset, they have all same expect one column and these column ordered in rank so we have to order them into name in alphabetical format\n",
    "     "
   ]
  },
  {
   "cell_type": "code",
   "execution_count": 3,
   "metadata": {},
   "outputs": [],
   "source": [
    "def sorting(data):\n",
    "    sorted = data.sort_values('Name', ascending=True)\n",
    "    return sorted\n",
    "\n",
    "earnings_sorted = sorting(earnings)\n",
    "market_cap_sorted = sorting(market_cap)\n",
    "employees_sorted = sorting(employees)\n",
    "margin_sorted = sorting(margin)\n",
    "pe_ratio_sorted = sorting(p_e_ratio)\n",
    "revenue_sorted = sorting(revenue)"
   ]
  },
  {
   "cell_type": "code",
   "execution_count": 10,
   "metadata": {},
   "outputs": [
    {
     "data": {
      "text/html": [
       "<div>\n",
       "<style scoped>\n",
       "    .dataframe tbody tr th:only-of-type {\n",
       "        vertical-align: middle;\n",
       "    }\n",
       "\n",
       "    .dataframe tbody tr th {\n",
       "        vertical-align: top;\n",
       "    }\n",
       "\n",
       "    .dataframe thead th {\n",
       "        text-align: right;\n",
       "    }\n",
       "</style>\n",
       "<table border=\"1\" class=\"dataframe\">\n",
       "  <thead>\n",
       "    <tr style=\"text-align: right;\">\n",
       "      <th></th>\n",
       "      <th>Name</th>\n",
       "      <th>earnings_ttm</th>\n",
       "      <th>price (USD)</th>\n",
       "    </tr>\n",
       "  </thead>\n",
       "  <tbody>\n",
       "    <tr>\n",
       "      <th>282</th>\n",
       "      <td>3M India</td>\n",
       "      <td>49029800.0</td>\n",
       "      <td>282.94</td>\n",
       "    </tr>\n",
       "    <tr>\n",
       "      <th>488</th>\n",
       "      <td>3i Infotech</td>\n",
       "      <td>-5881070.0</td>\n",
       "      <td>0.54</td>\n",
       "    </tr>\n",
       "    <tr>\n",
       "      <th>213</th>\n",
       "      <td>ABB India</td>\n",
       "      <td>97318100.0</td>\n",
       "      <td>28.88</td>\n",
       "    </tr>\n",
       "    <tr>\n",
       "      <th>92</th>\n",
       "      <td>ACC</td>\n",
       "      <td>313153000.0</td>\n",
       "      <td>27.12</td>\n",
       "    </tr>\n",
       "    <tr>\n",
       "      <th>395</th>\n",
       "      <td>AGC Networks</td>\n",
       "      <td>15163000.0</td>\n",
       "      <td>12.11</td>\n",
       "    </tr>\n",
       "  </tbody>\n",
       "</table>\n",
       "</div>"
      ],
      "text/plain": [
       "             Name  earnings_ttm  price (USD)\n",
       "282      3M India    49029800.0       282.94\n",
       "488   3i Infotech    -5881070.0         0.54\n",
       "213     ABB India    97318100.0        28.88\n",
       "92            ACC   313153000.0        27.12\n",
       "395  AGC Networks    15163000.0        12.11"
      ]
     },
     "execution_count": 10,
     "metadata": {},
     "output_type": "execute_result"
    }
   ],
   "source": [
    "earnings_dropped.head()"
   ]
  },
  {
   "cell_type": "markdown",
   "metadata": {},
   "source": [
    "### Removing extra feature"
   ]
  },
  {
   "cell_type": "code",
   "execution_count": 4,
   "metadata": {},
   "outputs": [],
   "source": [
    "def drop(data):\n",
    "    dropped = data.drop(['Rank', 'Symbol', 'country','Name','price (USD)'], axis = 1)\n",
    "    return dropped\n",
    "\n",
    "earnings_dropped = earnings_sorted.drop(['Rank', 'Symbol', 'country'], axis=1)\n",
    "market_cap_dropped = drop(market_cap_sorted)\n",
    "employees_dropped = drop(employees_sorted)\n",
    "margin_dropped = drop(margin_sorted)\n",
    "pe_ratio_dropped = drop(pe_ratio_sorted)\n",
    "revenue_dropped = drop(revenue_sorted)\n"
   ]
  },
  {
   "cell_type": "markdown",
   "metadata": {},
   "source": [
    "#### Merging the dataset"
   ]
  },
  {
   "cell_type": "code",
   "execution_count": 25,
   "metadata": {},
   "outputs": [],
   "source": [
    "# frames =[earnings_dropped, margin_dropped, market_cap_dropped, employees_dropped, margin_dropped, pe_ratio_dropped, revenue_dropped]\n",
    "df = pd.concat([earnings_dropped, margin_dropped, market_cap_dropped, employees_dropped, pe_ratio_dropped, revenue_dropped], axis=1, join='inner')\n"
   ]
  },
  {
   "cell_type": "markdown",
   "metadata": {},
   "source": [
    "# Analysis "
   ]
  },
  {
   "cell_type": "code",
   "execution_count": 30,
   "metadata": {},
   "outputs": [
    {
     "data": {
      "text/html": [
       "<div>\n",
       "<style scoped>\n",
       "    .dataframe tbody tr th:only-of-type {\n",
       "        vertical-align: middle;\n",
       "    }\n",
       "\n",
       "    .dataframe tbody tr th {\n",
       "        vertical-align: top;\n",
       "    }\n",
       "\n",
       "    .dataframe thead th {\n",
       "        text-align: right;\n",
       "    }\n",
       "</style>\n",
       "<table border=\"1\" class=\"dataframe\">\n",
       "  <thead>\n",
       "    <tr style=\"text-align: right;\">\n",
       "      <th></th>\n",
       "      <th>Name</th>\n",
       "      <th>earnings_ttm</th>\n",
       "      <th>price (USD)</th>\n",
       "      <th>operating_margin_ttm</th>\n",
       "      <th>marketcap</th>\n",
       "      <th>employees_count</th>\n",
       "      <th>pe_ratio_ttm</th>\n",
       "      <th>revenue_ttm</th>\n",
       "    </tr>\n",
       "  </thead>\n",
       "  <tbody>\n",
       "    <tr>\n",
       "      <th>282</th>\n",
       "      <td>3M India</td>\n",
       "      <td>49029800.0</td>\n",
       "      <td>282.94</td>\n",
       "      <td>1109.82</td>\n",
       "      <td>880006185</td>\n",
       "      <td>2165</td>\n",
       "      <td>33.7608</td>\n",
       "      <td>433528750</td>\n",
       "    </tr>\n",
       "    <tr>\n",
       "      <th>488</th>\n",
       "      <td>3i Infotech</td>\n",
       "      <td>-5881070.0</td>\n",
       "      <td>0.54</td>\n",
       "      <td>NaN</td>\n",
       "      <td>126138702</td>\n",
       "      <td>164</td>\n",
       "      <td>-11.5618</td>\n",
       "      <td>73731558</td>\n",
       "    </tr>\n",
       "    <tr>\n",
       "      <th>213</th>\n",
       "      <td>ABB India</td>\n",
       "      <td>97318100.0</td>\n",
       "      <td>28.88</td>\n",
       "      <td>1464.30</td>\n",
       "      <td>2018822251</td>\n",
       "      <td>3271</td>\n",
       "      <td>21.9620</td>\n",
       "      <td>764903864</td>\n",
       "    </tr>\n",
       "    <tr>\n",
       "      <th>92</th>\n",
       "      <td>ACC</td>\n",
       "      <td>313153000.0</td>\n",
       "      <td>27.12</td>\n",
       "      <td>2288.80</td>\n",
       "      <td>6148951320</td>\n",
       "      <td>10758</td>\n",
       "      <td>9.7500</td>\n",
       "      <td>2307769270</td>\n",
       "    </tr>\n",
       "    <tr>\n",
       "      <th>395</th>\n",
       "      <td>AGC Networks</td>\n",
       "      <td>15163000.0</td>\n",
       "      <td>12.11</td>\n",
       "      <td>497.45</td>\n",
       "      <td>290037671</td>\n",
       "      <td>1006</td>\n",
       "      <td>71.5417</td>\n",
       "      <td>209070387</td>\n",
       "    </tr>\n",
       "  </tbody>\n",
       "</table>\n",
       "</div>"
      ],
      "text/plain": [
       "             Name  earnings_ttm  price (USD)  operating_margin_ttm  \\\n",
       "282      3M India    49029800.0       282.94               1109.82   \n",
       "488   3i Infotech    -5881070.0         0.54                   NaN   \n",
       "213     ABB India    97318100.0        28.88               1464.30   \n",
       "92            ACC   313153000.0        27.12               2288.80   \n",
       "395  AGC Networks    15163000.0        12.11                497.45   \n",
       "\n",
       "      marketcap  employees_count  pe_ratio_ttm  revenue_ttm  \n",
       "282   880006185             2165       33.7608    433528750  \n",
       "488   126138702              164      -11.5618     73731558  \n",
       "213  2018822251             3271       21.9620    764903864  \n",
       "92   6148951320            10758        9.7500   2307769270  \n",
       "395   290037671             1006       71.5417    209070387  "
      ]
     },
     "execution_count": 30,
     "metadata": {},
     "output_type": "execute_result"
    }
   ],
   "source": [
    "df.head()"
   ]
  },
  {
   "cell_type": "code",
   "execution_count": 32,
   "metadata": {},
   "outputs": [
    {
     "name": "stdout",
     "output_type": "stream",
     "text": [
      "<class 'pandas.core.frame.DataFrame'>\n",
      "Int64Index: 535 entries, 282 to 519\n",
      "Data columns (total 8 columns):\n",
      " #   Column                Non-Null Count  Dtype  \n",
      "---  ------                --------------  -----  \n",
      " 0   Name                  535 non-null    object \n",
      " 1   earnings_ttm          535 non-null    float64\n",
      " 2   price (USD)           535 non-null    float64\n",
      " 3   operating_margin_ttm  481 non-null    float64\n",
      " 4   marketcap             535 non-null    int64  \n",
      " 5   employees_count       535 non-null    int64  \n",
      " 6   pe_ratio_ttm          535 non-null    float64\n",
      " 7   revenue_ttm           535 non-null    int64  \n",
      "dtypes: float64(4), int64(3), object(1)\n",
      "memory usage: 37.6+ KB\n"
     ]
    }
   ],
   "source": [
    "df.info()"
   ]
  },
  {
   "cell_type": "code",
   "execution_count": null,
   "metadata": {},
   "outputs": [],
   "source": []
  }
 ],
 "metadata": {
  "kernelspec": {
   "display_name": "Python 3.10.4 64-bit",
   "language": "python",
   "name": "python3"
  },
  "language_info": {
   "codemirror_mode": {
    "name": "ipython",
    "version": 3
   },
   "file_extension": ".py",
   "mimetype": "text/x-python",
   "name": "python",
   "nbconvert_exporter": "python",
   "pygments_lexer": "ipython3",
   "version": "3.10.4"
  },
  "orig_nbformat": 4,
  "vscode": {
   "interpreter": {
    "hash": "916dbcbb3f70747c44a77c7bcd40155683ae19c65e1c03b4aa3499c5328201f1"
   }
  }
 },
 "nbformat": 4,
 "nbformat_minor": 2
}
