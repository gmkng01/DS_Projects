{
 "cells": [
  {
   "cell_type": "code",
   "execution_count": 1,
   "metadata": {},
   "outputs": [],
   "source": [
    "import pandas as pd\n",
    "import numpy as np\n",
    "import requests\n",
    "from selenium import webdriver\n",
    "from selenium.webdriver.chrome.service import Service\n",
    "from webdriver_manager.chrome import ChromeDriverManager\n",
    "from time import sleep\n",
    "from bs4 import BeautifulSoup\n",
    "import re\n",
    "import warnings\n",
    "warnings.filterwarnings('ignore')\n",
    "import pprint"
   ]
  },
  {
   "cell_type": "code",
   "execution_count": 2,
   "metadata": {},
   "outputs": [],
   "source": [
    "url = \"https://www.zigwheels.com/newcars#manufacturers\"\n",
    "my_header = {\"User-Agent\":\"Mozilla/5.0 (X11; Ubuntu; Linux x86_64; rv:97.0) Gecko/20100101 Firefox/97.0\", \"Accept\":\"text/html,application/xhtml+xml,application/xml;q=0.9,image/avif,image/webp,*/*;q=0.8\"}\n",
    "r = requests.get(url, headers= my_header).text\n",
    "soup = BeautifulSoup(r, 'html.parser')"
   ]
  },
  {
   "cell_type": "markdown",
   "metadata": {},
   "source": [
    "#### Scrapping the Brands"
   ]
  },
  {
   "cell_type": "code",
   "execution_count": 10,
   "metadata": {},
   "outputs": [],
   "source": [
    "url = \"https://www.zigwheels.com/newcars#manufacturers\"\n",
    "my_header = {\"User-Agent\":\"Mozilla/5.0 (X11; Ubuntu; Linux x86_64; rv:97.0) Gecko/20100101 Firefox/97.0\", \"Accept\":\"text/html,application/xhtml+xml,application/xml;q=0.9,image/avif,image/webp,*/*;q=0.8\"}\n",
    "r = requests.get(url, headers= my_header).text\n",
    "soup = BeautifulSoup(r, 'html.parser')\n",
    "\n",
    "b1 = soup.find('div',{'id':'manufacturers'},{'class':'zw-con mt-0 pt-0'})\n",
    "b2 = parent1.get_text(strip=True, separator=\",\")\n",
    "\n",
    "\n",
    "brand = list(b2.split(\",\"))\n",
    "brand.remove('Top Car Brands in India')"
   ]
  },
  {
   "cell_type": "markdown",
   "metadata": {},
   "source": [
    "#### Scrapping the cars"
   ]
  },
  {
   "cell_type": "code",
   "execution_count": 42,
   "metadata": {},
   "outputs": [
    {
     "ename": "AttributeError",
     "evalue": "ResultSet object has no attribute 'get_text'. You're probably treating a list of elements like a single element. Did you call find_all() when you meant to call find()?",
     "output_type": "error",
     "traceback": [
      "\u001b[0;31m---------------------------------------------------------------------------\u001b[0m",
      "\u001b[0;31mAttributeError\u001b[0m                            Traceback (most recent call last)",
      "\u001b[1;32m/home/abhishek/Documents/Full_project/3rd_try.ipynb Cell 6'\u001b[0m in \u001b[0;36m<cell line: 10>\u001b[0;34m()\u001b[0m\n\u001b[1;32m      <a href='vscode-notebook-cell:/home/abhishek/Documents/Full_project/3rd_try.ipynb#ch0000003?line=5'>6</a>\u001b[0m c1 \u001b[39m=\u001b[39m soup\u001b[39m.\u001b[39mfind(\u001b[39m'\u001b[39m\u001b[39mul\u001b[39m\u001b[39m'\u001b[39m,{\u001b[39m'\u001b[39m\u001b[39mid\u001b[39m\u001b[39m'\u001b[39m:\u001b[39m'\u001b[39m\u001b[39mmodelList\u001b[39m\u001b[39m'\u001b[39m},{\u001b[39m'\u001b[39m\u001b[39mmk-row srp_main_div clr\u001b[39m\u001b[39m'\u001b[39m})\n\u001b[1;32m      <a href='vscode-notebook-cell:/home/abhishek/Documents/Full_project/3rd_try.ipynb#ch0000003?line=6'>7</a>\u001b[0m c2 \u001b[39m=\u001b[39m c1\u001b[39m.\u001b[39mfind_all(\u001b[39m'\u001b[39m\u001b[39mspan\u001b[39m\u001b[39m'\u001b[39m, class_ \u001b[39m=\u001b[39m \u001b[39m'\u001b[39m\u001b[39mlnk-hvr fnt-16 b block of-hid h-height\u001b[39m\u001b[39m'\u001b[39m)\n\u001b[0;32m---> <a href='vscode-notebook-cell:/home/abhishek/Documents/Full_project/3rd_try.ipynb#ch0000003?line=9'>10</a>\u001b[0m c3 \u001b[39m=\u001b[39m c2\u001b[39m.\u001b[39;49mget_text(strip\u001b[39m=\u001b[39m\u001b[39mTrue\u001b[39;00m, separator\u001b[39m=\u001b[39m\u001b[39m\"\u001b[39m\u001b[39m,\u001b[39m\u001b[39m\"\u001b[39m)\n",
      "File \u001b[0;32m~/.local/lib/python3.10/site-packages/bs4/element.py:2289\u001b[0m, in \u001b[0;36mResultSet.__getattr__\u001b[0;34m(self, key)\u001b[0m\n\u001b[1;32m   2287\u001b[0m \u001b[39mdef\u001b[39;00m \u001b[39m__getattr__\u001b[39m(\u001b[39mself\u001b[39m, key):\n\u001b[1;32m   2288\u001b[0m     \u001b[39m\"\"\"Raise a helpful exception to explain a common code fix.\"\"\"\u001b[39;00m\n\u001b[0;32m-> 2289\u001b[0m     \u001b[39mraise\u001b[39;00m \u001b[39mAttributeError\u001b[39;00m(\n\u001b[1;32m   2290\u001b[0m         \u001b[39m\"\u001b[39m\u001b[39mResultSet object has no attribute \u001b[39m\u001b[39m'\u001b[39m\u001b[39m%s\u001b[39;00m\u001b[39m'\u001b[39m\u001b[39m. You\u001b[39m\u001b[39m'\u001b[39m\u001b[39mre probably treating a list of elements like a single element. Did you call find_all() when you meant to call find()?\u001b[39m\u001b[39m\"\u001b[39m \u001b[39m%\u001b[39m key\n\u001b[1;32m   2291\u001b[0m     )\n",
      "\u001b[0;31mAttributeError\u001b[0m: ResultSet object has no attribute 'get_text'. You're probably treating a list of elements like a single element. Did you call find_all() when you meant to call find()?"
     ]
    }
   ],
   "source": [
    "url = f\"https://www.zigwheels.com/newcars/BMW\"\n",
    "my_header = {\"User-Agent\":\"Mozilla/5.0 (X11; Ubuntu; Linux x86_64; rv:97.0) Gecko/20100101 Firefox/97.0\", \"Accept\":\"text/html,application/xhtml+xml,application/xml;q=0.9,image/avif,image/webp,*/*;q=0.8\"}\n",
    "r = requests.get(url, headers= my_header).text\n",
    "soup = BeautifulSoup(r, 'html.parser')\n",
    "    \n",
    "c1 = soup.find('ul',{'id':'modelList'},{'mk-row srp_main_div clr'})\n",
    "c2 = c1.find_all('span', class_ = 'lnk-hvr fnt-16 b block of-hid h-height')\n",
    "\n",
    "\n",
    "c3 = c2.get_text(strip=True, separator=\",\")"
   ]
  },
  {
   "cell_type": "code",
   "execution_count": 43,
   "metadata": {},
   "outputs": [
    {
     "name": "stdout",
     "output_type": "stream",
     "text": [
      "[<span class=\"lnk-hvr fnt-16 b block of-hid h-height\">\n",
      "BMW X5\t</span>, <span class=\"lnk-hvr fnt-16 b block of-hid h-height\">\n",
      "BMW X1\t</span>, <span class=\"lnk-hvr fnt-16 b block of-hid h-height\">\n",
      "BMW X7\t</span>, <span class=\"lnk-hvr fnt-16 b block of-hid h-height\">\n",
      "BMW 3 Series\t</span>, <span class=\"lnk-hvr fnt-16 b block of-hid h-height\">\n",
      "BMW Z4\t</span>, <span class=\"lnk-hvr fnt-16 b block of-hid h-height\">\n",
      "BMW X3\t</span>, <span class=\"lnk-hvr fnt-16 b block of-hid h-height\">\n",
      "BMW i4\t</span>, <span class=\"lnk-hvr fnt-16 b block of-hid h-height\">\n",
      "BMW X4\t</span>, <span class=\"lnk-hvr fnt-16 b block of-hid h-height\">\n",
      "BMW 7 Series\t</span>, <span class=\"lnk-hvr fnt-16 b block of-hid h-height\">\n",
      "BMW 5 Series\t</span>, <span class=\"lnk-hvr fnt-16 b block of-hid h-height\">\n",
      "BMW X6\t</span>, <span class=\"lnk-hvr fnt-16 b block of-hid h-height\">\n",
      "BMW 2 Series\t</span>, <span class=\"lnk-hvr fnt-16 b block of-hid h-height\">\n",
      "BMW iX\t</span>, <span class=\"lnk-hvr fnt-16 b block of-hid h-height\">\n",
      "BMW M5\t</span>, <span class=\"lnk-hvr fnt-16 b block of-hid h-height\">\n",
      "BMW 6 Series\t</span>, <span class=\"lnk-hvr fnt-16 b block of-hid h-height\">\n",
      "BMW M2\t</span>, <span class=\"lnk-hvr fnt-16 b block of-hid h-height\">\n",
      "BMW 8 Series\t</span>, <span class=\"lnk-hvr fnt-16 b block of-hid h-height\">\n",
      "BMW M4 Competition\t</span>, <span class=\"lnk-hvr fnt-16 b block of-hid h-height\">\n",
      "BMW X3 M\t</span>, <span class=\"lnk-hvr fnt-16 b block of-hid h-height\">\n",
      "BMW X5 M\t</span>, <span class=\"lnk-hvr fnt-16 b block of-hid h-height\">\n",
      "BMW 3 Series Gran Limousine\t</span>]\n"
     ]
    }
   ],
   "source": [
    "print(c2)"
   ]
  }
 ],
 "metadata": {
  "kernelspec": {
   "display_name": "Python 3.10.4 64-bit",
   "language": "python",
   "name": "python3"
  },
  "language_info": {
   "codemirror_mode": {
    "name": "ipython",
    "version": 3
   },
   "file_extension": ".py",
   "mimetype": "text/x-python",
   "name": "python",
   "nbconvert_exporter": "python",
   "pygments_lexer": "ipython3",
   "version": "3.10.4"
  },
  "orig_nbformat": 4,
  "vscode": {
   "interpreter": {
    "hash": "916dbcbb3f70747c44a77c7bcd40155683ae19c65e1c03b4aa3499c5328201f1"
   }
  }
 },
 "nbformat": 4,
 "nbformat_minor": 2
}
