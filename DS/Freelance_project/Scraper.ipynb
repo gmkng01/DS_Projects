{
 "cells": [
  {
   "cell_type": "code",
   "execution_count": 1,
   "metadata": {},
   "outputs": [],
   "source": [
    "import pandas as pd\n",
    "import numpy as np\n",
    "\n",
    "import requests\n",
    "from selenium import webdriver\n",
    "from selenium.webdriver.chrome.service import Service\n",
    "from webdriver_manager.chrome import ChromeDriverManager\n",
    "from time import sleep\n",
    "from bs4 import BeautifulSoup\n",
    "import re\n",
    "import warnings\n",
    "import pprint\n",
    "\n",
    "import warnings\n",
    "warnings.filterwarnings('ignore')\n",
    "pd.set_option('display.max_column', 100, 'display.max_row', 1000)"
   ]
  },
  {
   "cell_type": "code",
   "execution_count": 2,
   "metadata": {},
   "outputs": [],
   "source": [
    "name = []\n",
    "\n",
    "for i in range (0,26):\n",
    "    url = 'https://www.wlw.de/de/suche/page/{}?employeeCounts=200%2B_50-199&q=blechbearbeitung&supplierTypes=Dienstleister_Hersteller'.format(i)\n",
    "            \n",
    "    my_header = {\"User-Agent\":\"Mozilla/5.0 (X11; Ubuntu; Linux x86_64; rv:97.0) Gecko/20100101 Firefox/97.0\",\n",
    "                 \"Accept\":\"text/html,application/xhtml+xml,application/xml;q=0.9,image/avif,image/webp,*/*;q=0.8\"}\n",
    "    \n",
    "    r = requests.get(url, headers= my_header).text\n",
    "    soup = BeautifulSoup(r, 'html.parser')\n",
    "    \n",
    "    try:\n",
    "        for i in range(0,30):\n",
    "       \n",
    "            p1 = soup.find_all('a', class_ = 'company-title-link')\n",
    "            p2 = p1[i].get_text(strip=True, separator=\" \")\n",
    "            name.append(p2)\n",
    "    except:\n",
    "        name.append(np.NaN)\n",
    "\n",
    "for i in range(0,22):\n",
    "    url = 'https://www.wlw.de/de/suche?employeeCounts=200%2B_50-199&q=blechbearbeitung&supplierTypes=Dienstleister_Hersteller'\n",
    "    my_header = {\"User-Agent\":\"Mozilla/5.0 (X11; Ubuntu; Linux x86_64; rv:97.0) Gecko/20100101 Firefox/97.0\", \"Accept\":\"text/html,application/xhtml+xml,application/xml;q=0.9,image/avif,image/webp,*/*;q=0.8\"}\n",
    "    r = requests.get(url, headers= my_header).text\n",
    "\n",
    "    try:\n",
    "        soup = BeautifulSoup(r, 'html.parser')\n",
    "        p1 = soup.find_all('a', class_ = 'company-title-link')\n",
    "        p2 = p1[i].get_text(strip=True, separator=\" \")\n",
    "        name.append(p2)\n",
    "        \n",
    "    except:\n",
    "        name.append(np.NaN)  "
   ]
  },
  {
   "cell_type": "code",
   "execution_count": 3,
   "metadata": {},
   "outputs": [],
   "source": [
    "df = pd.DataFrame(name)"
   ]
  },
  {
   "cell_type": "code",
   "execution_count": 4,
   "metadata": {},
   "outputs": [
    {
     "data": {
      "text/plain": [
       "(802, 1)"
      ]
     },
     "execution_count": 4,
     "metadata": {},
     "output_type": "execute_result"
    }
   ],
   "source": [
    "df.shape"
   ]
  },
  {
   "cell_type": "code",
   "execution_count": 9,
   "metadata": {},
   "outputs": [
    {
     "data": {
      "text/html": [
       "<div>\n",
       "<style scoped>\n",
       "    .dataframe tbody tr th:only-of-type {\n",
       "        vertical-align: middle;\n",
       "    }\n",
       "\n",
       "    .dataframe tbody tr th {\n",
       "        vertical-align: top;\n",
       "    }\n",
       "\n",
       "    .dataframe thead th {\n",
       "        text-align: right;\n",
       "    }\n",
       "</style>\n",
       "<table border=\"1\" class=\"dataframe\">\n",
       "  <thead>\n",
       "    <tr style=\"text-align: right;\">\n",
       "      <th></th>\n",
       "      <th>0</th>\n",
       "    </tr>\n",
       "  </thead>\n",
       "  <tbody>\n",
       "    <tr>\n",
       "      <th>0</th>\n",
       "      <td>H. Steinhart Metallwarenfabrik GmbH &amp; Co. KG</td>\n",
       "    </tr>\n",
       "    <tr>\n",
       "      <th>1</th>\n",
       "      <td>Dalquen GmbH &amp; Co. Blechbearbeitungszentrum</td>\n",
       "    </tr>\n",
       "    <tr>\n",
       "      <th>2</th>\n",
       "      <td>LTI Metalltechnik Pößneck GmbH</td>\n",
       "    </tr>\n",
       "    <tr>\n",
       "      <th>3</th>\n",
       "      <td>KWM Karl Weisshaar Ing. GmbH</td>\n",
       "    </tr>\n",
       "    <tr>\n",
       "      <th>4</th>\n",
       "      <td>FUTRONIKA AG</td>\n",
       "    </tr>\n",
       "    <tr>\n",
       "      <th>5</th>\n",
       "      <td>W. Albrecht GmbH &amp; Co. KG</td>\n",
       "    </tr>\n",
       "    <tr>\n",
       "      <th>6</th>\n",
       "      <td>shoptec GmbH</td>\n",
       "    </tr>\n",
       "    <tr>\n",
       "      <th>7</th>\n",
       "      <td>Emil Wirth Maschinenbau GmbH</td>\n",
       "    </tr>\n",
       "    <tr>\n",
       "      <th>8</th>\n",
       "      <td>ZI Jena GmbH</td>\n",
       "    </tr>\n",
       "    <tr>\n",
       "      <th>9</th>\n",
       "      <td>Kuhn &amp; Möhrlein GmbH Werkzeug u. Maschinenbau</td>\n",
       "    </tr>\n",
       "  </tbody>\n",
       "</table>\n",
       "</div>"
      ],
      "text/plain": [
       "                                               0\n",
       "0   H. Steinhart Metallwarenfabrik GmbH & Co. KG\n",
       "1    Dalquen GmbH & Co. Blechbearbeitungszentrum\n",
       "2                 LTI Metalltechnik Pößneck GmbH\n",
       "3                   KWM Karl Weisshaar Ing. GmbH\n",
       "4                                   FUTRONIKA AG\n",
       "5                      W. Albrecht GmbH & Co. KG\n",
       "6                                   shoptec GmbH\n",
       "7                   Emil Wirth Maschinenbau GmbH\n",
       "8                                   ZI Jena GmbH\n",
       "9  Kuhn & Möhrlein GmbH Werkzeug u. Maschinenbau"
      ]
     },
     "execution_count": 9,
     "metadata": {},
     "output_type": "execute_result"
    }
   ],
   "source": [
    "df.head(10)"
   ]
  },
  {
   "cell_type": "markdown",
   "metadata": {},
   "source": [
    "shoptec_gmbh"
   ]
  },
  {
   "cell_type": "code",
   "execution_count": 10,
   "metadata": {},
   "outputs": [],
   "source": [
    "se = df.iloc[:,0]"
   ]
  },
  {
   "cell_type": "code",
   "execution_count": null,
   "metadata": {},
   "outputs": [],
   "source": [
    "# <input autofocus=\"\" id=\"searchStr\" maxlength=\"200\" name=\"searchStr\" required=\"\" type=\"text\" value=\"Emil Wirth Maschinenbau GmbH\">"
   ]
  },
  {
   "cell_type": "code",
   "execution_count": 13,
   "metadata": {},
   "outputs": [],
   "source": [
    "# ch = []\n",
    "# for i in se:\n",
    "#     url = 'https://www.schnelle-seiten.net/firmen/'\n",
    "#     my_header = {\"User-Agent\":\"Mozilla/5.0 (X11; Ubuntu; Linux x86_64; rv:97.0) Gecko/20100101 Firefox/97.0\", \"Accept\":\"text/html,application/xhtml+xml,application/xml;q=0.9,image/avif,image/webp,*/*;q=0.8\"}\n",
    "#     r = requests.get(url, headers= my_header).text\n",
    "\n",
    "#     soup = BeautifulSoup(r, 'html.parser')\n",
    "#     p1 = soup.find('input', {'id':'searchStr'}, {'name': 'SearchStr'}, {'type':'text'}, {'value': f'{i}'})\n",
    "#     p2 = p1[i].get_text(strip=True, separator=\" \")\n",
    "#     ch.append(p2)"
   ]
  },
  {
   "cell_type": "code",
   "execution_count": 15,
   "metadata": {},
   "outputs": [],
   "source": [
    "url = 'https://www.schnelle-seiten.net/firmen/'\n",
    "my_header = {\"User-Agent\":\"Mozilla/5.0 (X11; Ubuntu; Linux x86_64; rv:97.0) Gecko/20100101 Firefox/97.0\", \"Accept\":\"text/html,application/xhtml+xml,application/xml;q=0.9,image/avif,image/webp,*/*;q=0.8\"}\n",
    "r = requests.get(url, headers= my_header).text\n",
    "\n",
    "soup = BeautifulSoup(r, 'html.parser')\n",
    "p1 = soup.find_all('input', {'id':'searchStr'}, {'name': 'SearchStr'}, {'type':'text'}, {'value': 'ZI Jena GmbH'})"
   ]
  },
  {
   "cell_type": "code",
   "execution_count": 16,
   "metadata": {},
   "outputs": [
    {
     "data": {
      "text/plain": [
       "[]"
      ]
     },
     "execution_count": 16,
     "metadata": {},
     "output_type": "execute_result"
    }
   ],
   "source": [
    "p1"
   ]
  },
  {
   "cell_type": "code",
   "execution_count": 7,
   "metadata": {},
   "outputs": [],
   "source": [
    "# n.shape"
   ]
  }
 ],
 "metadata": {
  "kernelspec": {
   "display_name": "Python 3.10.4 64-bit",
   "language": "python",
   "name": "python3"
  },
  "language_info": {
   "codemirror_mode": {
    "name": "ipython",
    "version": 3
   },
   "file_extension": ".py",
   "mimetype": "text/x-python",
   "name": "python",
   "nbconvert_exporter": "python",
   "pygments_lexer": "ipython3",
   "version": "3.10.4"
  },
  "orig_nbformat": 4,
  "vscode": {
   "interpreter": {
    "hash": "916dbcbb3f70747c44a77c7bcd40155683ae19c65e1c03b4aa3499c5328201f1"
   }
  }
 },
 "nbformat": 4,
 "nbformat_minor": 2
}
